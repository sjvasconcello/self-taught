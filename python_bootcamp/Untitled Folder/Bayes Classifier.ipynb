{
 "cells": [
  {
   "cell_type": "code",
   "execution_count": null,
   "metadata": {},
   "outputs": [],
   "source": []
  },
  {
   "cell_type": "markdown",
   "metadata": {},
   "source": [
    "## Notebook Imports"
   ]
  },
  {
   "cell_type": "code",
   "execution_count": 90,
   "metadata": {},
   "outputs": [],
   "source": [
    "from os import walk\n",
    "from os.path import join\n",
    "import pandas as pd\n",
    "import matplotlib.pyplot as plt\n",
    "\n",
    "import nltk\n",
    "from nltk.stem import PorterStemmer\n",
    "from nltk.stem import SnowballStemmer\n",
    "from nltk.corpus import stopwords\n",
    "from nltk.tokenize import word_tokenize\n",
    "\n",
    "%matplotlib inline"
   ]
  },
  {
   "cell_type": "markdown",
   "metadata": {},
   "source": [
    "## Constants"
   ]
  },
  {
   "cell_type": "code",
   "execution_count": 24,
   "metadata": {},
   "outputs": [],
   "source": [
    "EXAMPLE_FILE = \"../data/SpamData/01_Processing/practice_email.txt\"\n",
    "\n",
    "SPAM_1_PATH = \"../data/SpamData/01_Processing/spam_assassin_corpus/spam_1\"\n",
    "SPAM_2_PATH = \"../data/SpamData/01_Processing/spam_assassin_corpus/spam_2\"\n",
    "EASY_NONSPAM_1_PATH = \"../data/SpamData/01_Processing/spam_assassin_corpus/easy_ham_1\"\n",
    "EASY_NONSPAM_2_PATH = \"../data/SpamData/01_Processing/spam_assassin_corpus/easy_ham_2\"\n",
    "\n",
    "SPAM_CAT = 1\n",
    "HAM_CAT = 0\n",
    "\n",
    "DATA_JSON_FILE = \"../data/SpamData/01_Processing/email-text-data.json\""
   ]
  },
  {
   "cell_type": "markdown",
   "metadata": {},
   "source": [
    "## Reading Files"
   ]
  },
  {
   "cell_type": "code",
   "execution_count": 3,
   "metadata": {},
   "outputs": [
    {
     "name": "stdout",
     "output_type": "stream",
     "text": [
      "\n",
      "\n",
      "Dear Mr Still\n",
      "\n",
      "\n",
      "\n",
      "Good tidings to you and all your staff for the festive season ahead (Christmas).\n",
      "\n",
      "Now to the crux of the matter-in-hand: I am a fully qualified Santa Claus and am wondering whether you might consider me to run my own \"Santa's Grotto\" in your store.\n",
      "\n",
      "But WAIT! You're probably thinking: \"What makes him so special?\"\n",
      "\n",
      "Well, first of all, I have made several changes to the characterisation of Father Christmas. Rather than greeting the children with shouts of \"Ho, ho, ho!\" I prefer to whisper the phrase \"Dependence is not unfathomable in this cruel world we live in\". In addition, my gifts are ALL hand-made, ranging from felt hoops to vanilla-pod holders.\n",
      "\n",
      "You will note also, from the enclosed sketch, that I have radically redesigned Santa's outfit and have renamed my character \"Lord Buckles\". Would you be interested in employing me? I promise NEVER to let you down.\n",
      "\n",
      "I look forward to hearing from you.\n",
      "\n",
      "\n",
      "\n",
      "Best wishes\n",
      "\n",
      "Robin Cooper\n",
      "\n",
      "[Excerpt from the book: The Timewaster Letters by Robin Cooper]\n",
      "\n"
     ]
    }
   ],
   "source": [
    "stream = open(EXAMPLE_FILE, encoding=\"latin-1\")\n",
    "\n",
    "\n",
    "is_body = False\n",
    "lines = []\n",
    "\n",
    "for line in stream:\n",
    "    if is_body:\n",
    "        lines.append(line)\n",
    "    elif line == \"\\n\":\n",
    "        is_body = True\n",
    "        \n",
    "stream.close()\n",
    "\n",
    "email_body = \"\\n\".join(lines)\n",
    "print(email_body)"
   ]
  },
  {
   "cell_type": "code",
   "execution_count": 4,
   "metadata": {},
   "outputs": [
    {
     "data": {
      "text/plain": [
       "'utf-8'"
      ]
     },
     "execution_count": 4,
     "metadata": {},
     "output_type": "execute_result"
    }
   ],
   "source": [
    "import sys\n",
    "sys.getfilesystemencoding()"
   ]
  },
  {
   "cell_type": "markdown",
   "metadata": {},
   "source": [
    "## Generator Functions"
   ]
  },
  {
   "cell_type": "code",
   "execution_count": 5,
   "metadata": {},
   "outputs": [],
   "source": [
    "def generate_square(N):\n",
    "    for my_number in range(N):\n",
    "        yield my_number ** 2"
   ]
  },
  {
   "cell_type": "code",
   "execution_count": 6,
   "metadata": {},
   "outputs": [
    {
     "name": "stdout",
     "output_type": "stream",
     "text": [
      "0 ->1 ->4 ->9 ->16 ->"
     ]
    }
   ],
   "source": [
    "for i in generate_square(5):\n",
    "    print(i, end=\" ->\")"
   ]
  },
  {
   "cell_type": "markdown",
   "metadata": {},
   "source": [
    "### Email body extraction"
   ]
  },
  {
   "cell_type": "code",
   "execution_count": 7,
   "metadata": {},
   "outputs": [],
   "source": [
    "def email_body_generator(path):\n",
    "    for root, dirnames, filename in walk(path):\n",
    "        for file_name in filename:\n",
    "            \n",
    "            filepath = join(root, file_name)\n",
    "                       \n",
    "            stream = open(filepath, encoding=\"latin-1\")\n",
    "            \n",
    "            is_body = False\n",
    "            lines = []\n",
    "\n",
    "            for line in stream:\n",
    "                if is_body:\n",
    "                    lines.append(line)\n",
    "                elif line == \"\\n\":\n",
    "                    is_body = True\n",
    "\n",
    "            stream.close()\n",
    "\n",
    "            email_body = \"\\n\".join(lines)\n",
    "            \n",
    "            yield file_name, email_body\n"
   ]
  },
  {
   "cell_type": "code",
   "execution_count": 8,
   "metadata": {},
   "outputs": [],
   "source": [
    "def df_from_directory(path, classification):\n",
    "    rows = []\n",
    "    row_names = []\n",
    "    \n",
    "    for file_name, email_body in email_body_generator(path):\n",
    "        rows.append({\"MESSAGE\": email_body, \"CATEGORY\": classification})\n",
    "        row_names.append(file_name)\n",
    "        \n",
    "    return pd.DataFrame(rows, index=row_names)\n",
    "    "
   ]
  },
  {
   "cell_type": "code",
   "execution_count": 9,
   "metadata": {},
   "outputs": [
    {
     "data": {
      "text/html": [
       "<div>\n",
       "<style scoped>\n",
       "    .dataframe tbody tr th:only-of-type {\n",
       "        vertical-align: middle;\n",
       "    }\n",
       "\n",
       "    .dataframe tbody tr th {\n",
       "        vertical-align: top;\n",
       "    }\n",
       "\n",
       "    .dataframe thead th {\n",
       "        text-align: right;\n",
       "    }\n",
       "</style>\n",
       "<table border=\"1\" class=\"dataframe\">\n",
       "  <thead>\n",
       "    <tr style=\"text-align: right;\">\n",
       "      <th></th>\n",
       "      <th>MESSAGE</th>\n",
       "      <th>CATEGORY</th>\n",
       "    </tr>\n",
       "  </thead>\n",
       "  <tbody>\n",
       "    <tr>\n",
       "      <th>00387.8562ea27520ea0fa6030679792f2fb72</th>\n",
       "      <td>&lt;!DOCTYPE HTML PUBLIC \"-//W3C//DTD HTML 4.0 Tr...</td>\n",
       "      <td>1</td>\n",
       "    </tr>\n",
       "    <tr>\n",
       "      <th>00313.fab744bfd5a128fca39b69df9811c086</th>\n",
       "      <td>PGh0bWw+DQo8aGVhZD4NCjxtZXRhIGh0dHAtZXF1aXY9Ik...</td>\n",
       "      <td>1</td>\n",
       "    </tr>\n",
       "    <tr>\n",
       "      <th>00365.da6795d02b44e4d5e168d62718f3e7c9</th>\n",
       "      <td>--------------103237257898946\\n\\nContent-Type:...</td>\n",
       "      <td>1</td>\n",
       "    </tr>\n",
       "    <tr>\n",
       "      <th>00255.aeff2fdf2ba6b8b49686df3575859a48</th>\n",
       "      <td>It was the Spring of 1979.  \\n\\n\\n\\nI was just...</td>\n",
       "      <td>1</td>\n",
       "    </tr>\n",
       "    <tr>\n",
       "      <th>00248.b243bca51ee69d6e428ca2f45f0fe41b</th>\n",
       "      <td>This is a multi-part message in MIME format.\\n...</td>\n",
       "      <td>1</td>\n",
       "    </tr>\n",
       "  </tbody>\n",
       "</table>\n",
       "</div>"
      ],
      "text/plain": [
       "                                                                                  MESSAGE  \\\n",
       "00387.8562ea27520ea0fa6030679792f2fb72  <!DOCTYPE HTML PUBLIC \"-//W3C//DTD HTML 4.0 Tr...   \n",
       "00313.fab744bfd5a128fca39b69df9811c086  PGh0bWw+DQo8aGVhZD4NCjxtZXRhIGh0dHAtZXF1aXY9Ik...   \n",
       "00365.da6795d02b44e4d5e168d62718f3e7c9  --------------103237257898946\\n\\nContent-Type:...   \n",
       "00255.aeff2fdf2ba6b8b49686df3575859a48  It was the Spring of 1979.  \\n\\n\\n\\nI was just...   \n",
       "00248.b243bca51ee69d6e428ca2f45f0fe41b  This is a multi-part message in MIME format.\\n...   \n",
       "\n",
       "                                        CATEGORY  \n",
       "00387.8562ea27520ea0fa6030679792f2fb72         1  \n",
       "00313.fab744bfd5a128fca39b69df9811c086         1  \n",
       "00365.da6795d02b44e4d5e168d62718f3e7c9         1  \n",
       "00255.aeff2fdf2ba6b8b49686df3575859a48         1  \n",
       "00248.b243bca51ee69d6e428ca2f45f0fe41b         1  "
      ]
     },
     "execution_count": 9,
     "metadata": {},
     "output_type": "execute_result"
    }
   ],
   "source": [
    "spam_emails = df_from_directory(SPAM_1_PATH, 1)\n",
    "spam_emails = spam_emails.append(df_from_directory(SPAM_2_PATH,1))\n",
    "spam_emails.head()"
   ]
  },
  {
   "cell_type": "code",
   "execution_count": 10,
   "metadata": {},
   "outputs": [
    {
     "data": {
      "text/plain": [
       "(1898, 2)"
      ]
     },
     "execution_count": 10,
     "metadata": {},
     "output_type": "execute_result"
    }
   ],
   "source": [
    "spam_emails.shape"
   ]
  },
  {
   "cell_type": "code",
   "execution_count": 11,
   "metadata": {},
   "outputs": [
    {
     "data": {
      "text/plain": [
       "(3901, 2)"
      ]
     },
     "execution_count": 11,
     "metadata": {},
     "output_type": "execute_result"
    }
   ],
   "source": [
    "ham_emails = df_from_directory(EASY_NONSPAM_1_PATH, HAM_CAT)\n",
    "ham_emails = ham_emails.append(df_from_directory(EASY_NONSPAM_2_PATH, HAM_CAT))\n",
    "ham_emails.shape"
   ]
  },
  {
   "cell_type": "code",
   "execution_count": 12,
   "metadata": {},
   "outputs": [
    {
     "name": "stdout",
     "output_type": "stream",
     "text": [
      "Shape of entire dataframe is  (5799, 2)\n"
     ]
    },
    {
     "data": {
      "text/html": [
       "<div>\n",
       "<style scoped>\n",
       "    .dataframe tbody tr th:only-of-type {\n",
       "        vertical-align: middle;\n",
       "    }\n",
       "\n",
       "    .dataframe tbody tr th {\n",
       "        vertical-align: top;\n",
       "    }\n",
       "\n",
       "    .dataframe thead th {\n",
       "        text-align: right;\n",
       "    }\n",
       "</style>\n",
       "<table border=\"1\" class=\"dataframe\">\n",
       "  <thead>\n",
       "    <tr style=\"text-align: right;\">\n",
       "      <th></th>\n",
       "      <th>MESSAGE</th>\n",
       "      <th>CATEGORY</th>\n",
       "    </tr>\n",
       "  </thead>\n",
       "  <tbody>\n",
       "    <tr>\n",
       "      <th>00387.8562ea27520ea0fa6030679792f2fb72</th>\n",
       "      <td>&lt;!DOCTYPE HTML PUBLIC \"-//W3C//DTD HTML 4.0 Tr...</td>\n",
       "      <td>1</td>\n",
       "    </tr>\n",
       "    <tr>\n",
       "      <th>00313.fab744bfd5a128fca39b69df9811c086</th>\n",
       "      <td>PGh0bWw+DQo8aGVhZD4NCjxtZXRhIGh0dHAtZXF1aXY9Ik...</td>\n",
       "      <td>1</td>\n",
       "    </tr>\n",
       "    <tr>\n",
       "      <th>00365.da6795d02b44e4d5e168d62718f3e7c9</th>\n",
       "      <td>--------------103237257898946\\n\\nContent-Type:...</td>\n",
       "      <td>1</td>\n",
       "    </tr>\n",
       "    <tr>\n",
       "      <th>00255.aeff2fdf2ba6b8b49686df3575859a48</th>\n",
       "      <td>It was the Spring of 1979.  \\n\\n\\n\\nI was just...</td>\n",
       "      <td>1</td>\n",
       "    </tr>\n",
       "    <tr>\n",
       "      <th>00248.b243bca51ee69d6e428ca2f45f0fe41b</th>\n",
       "      <td>This is a multi-part message in MIME format.\\n...</td>\n",
       "      <td>1</td>\n",
       "    </tr>\n",
       "  </tbody>\n",
       "</table>\n",
       "</div>"
      ],
      "text/plain": [
       "                                                                                  MESSAGE  \\\n",
       "00387.8562ea27520ea0fa6030679792f2fb72  <!DOCTYPE HTML PUBLIC \"-//W3C//DTD HTML 4.0 Tr...   \n",
       "00313.fab744bfd5a128fca39b69df9811c086  PGh0bWw+DQo8aGVhZD4NCjxtZXRhIGh0dHAtZXF1aXY9Ik...   \n",
       "00365.da6795d02b44e4d5e168d62718f3e7c9  --------------103237257898946\\n\\nContent-Type:...   \n",
       "00255.aeff2fdf2ba6b8b49686df3575859a48  It was the Spring of 1979.  \\n\\n\\n\\nI was just...   \n",
       "00248.b243bca51ee69d6e428ca2f45f0fe41b  This is a multi-part message in MIME format.\\n...   \n",
       "\n",
       "                                        CATEGORY  \n",
       "00387.8562ea27520ea0fa6030679792f2fb72         1  \n",
       "00313.fab744bfd5a128fca39b69df9811c086         1  \n",
       "00365.da6795d02b44e4d5e168d62718f3e7c9         1  \n",
       "00255.aeff2fdf2ba6b8b49686df3575859a48         1  \n",
       "00248.b243bca51ee69d6e428ca2f45f0fe41b         1  "
      ]
     },
     "execution_count": 12,
     "metadata": {},
     "output_type": "execute_result"
    }
   ],
   "source": [
    "data = pd.concat([spam_emails, ham_emails])\n",
    "print(\"Shape of entire dataframe is \", data.shape)\n",
    "data.head()"
   ]
  },
  {
   "cell_type": "code",
   "execution_count": 13,
   "metadata": {},
   "outputs": [
    {
     "data": {
      "text/html": [
       "<div>\n",
       "<style scoped>\n",
       "    .dataframe tbody tr th:only-of-type {\n",
       "        vertical-align: middle;\n",
       "    }\n",
       "\n",
       "    .dataframe tbody tr th {\n",
       "        vertical-align: top;\n",
       "    }\n",
       "\n",
       "    .dataframe thead th {\n",
       "        text-align: right;\n",
       "    }\n",
       "</style>\n",
       "<table border=\"1\" class=\"dataframe\">\n",
       "  <thead>\n",
       "    <tr style=\"text-align: right;\">\n",
       "      <th></th>\n",
       "      <th>MESSAGE</th>\n",
       "      <th>CATEGORY</th>\n",
       "    </tr>\n",
       "  </thead>\n",
       "  <tbody>\n",
       "    <tr>\n",
       "      <th>00515.b39512509fd4f39fb1cf50248c37564f</th>\n",
       "      <td>On Mon, 19 Aug 2002 12:01:02 BST, Adrian Murph...</td>\n",
       "      <td>0</td>\n",
       "    </tr>\n",
       "    <tr>\n",
       "      <th>01269.4b518a53f76da3fd4d469c5e2e557340</th>\n",
       "      <td>On Wed, 21 Aug 2002 10:38:04 +0200, Matthias S...</td>\n",
       "      <td>0</td>\n",
       "    </tr>\n",
       "    <tr>\n",
       "      <th>00307.6cfae2c5703c7eb36db9c8158c70b0ae</th>\n",
       "      <td>On Fri, Aug 09, 2002 at 09:30:29AM +0100, Ryan...</td>\n",
       "      <td>0</td>\n",
       "    </tr>\n",
       "    <tr>\n",
       "      <th>00212.df5211161d938a2547804a50f0a8698f</th>\n",
       "      <td>At 17:34 31/07/02 +0100, Liam Bedford wrote:\\n...</td>\n",
       "      <td>0</td>\n",
       "    </tr>\n",
       "    <tr>\n",
       "      <th>01316.ba750fd796b2557fbfbbd3699ff90d25</th>\n",
       "      <td>use Perl Daily Newsletter\\n\\n\\n\\nIn this issue...</td>\n",
       "      <td>0</td>\n",
       "    </tr>\n",
       "  </tbody>\n",
       "</table>\n",
       "</div>"
      ],
      "text/plain": [
       "                                                                                  MESSAGE  \\\n",
       "00515.b39512509fd4f39fb1cf50248c37564f  On Mon, 19 Aug 2002 12:01:02 BST, Adrian Murph...   \n",
       "01269.4b518a53f76da3fd4d469c5e2e557340  On Wed, 21 Aug 2002 10:38:04 +0200, Matthias S...   \n",
       "00307.6cfae2c5703c7eb36db9c8158c70b0ae  On Fri, Aug 09, 2002 at 09:30:29AM +0100, Ryan...   \n",
       "00212.df5211161d938a2547804a50f0a8698f  At 17:34 31/07/02 +0100, Liam Bedford wrote:\\n...   \n",
       "01316.ba750fd796b2557fbfbbd3699ff90d25  use Perl Daily Newsletter\\n\\n\\n\\nIn this issue...   \n",
       "\n",
       "                                        CATEGORY  \n",
       "00515.b39512509fd4f39fb1cf50248c37564f         0  \n",
       "01269.4b518a53f76da3fd4d469c5e2e557340         0  \n",
       "00307.6cfae2c5703c7eb36db9c8158c70b0ae         0  \n",
       "00212.df5211161d938a2547804a50f0a8698f         0  \n",
       "01316.ba750fd796b2557fbfbbd3699ff90d25         0  "
      ]
     },
     "execution_count": 13,
     "metadata": {},
     "output_type": "execute_result"
    }
   ],
   "source": [
    "data.tail()"
   ]
  },
  {
   "cell_type": "markdown",
   "metadata": {},
   "source": [
    "## Data Cleaning: Checking for Missing Values"
   ]
  },
  {
   "cell_type": "code",
   "execution_count": 14,
   "metadata": {},
   "outputs": [
    {
     "data": {
      "text/html": [
       "<div>\n",
       "<style scoped>\n",
       "    .dataframe tbody tr th:only-of-type {\n",
       "        vertical-align: middle;\n",
       "    }\n",
       "\n",
       "    .dataframe tbody tr th {\n",
       "        vertical-align: top;\n",
       "    }\n",
       "\n",
       "    .dataframe thead th {\n",
       "        text-align: right;\n",
       "    }\n",
       "</style>\n",
       "<table border=\"1\" class=\"dataframe\">\n",
       "  <thead>\n",
       "    <tr style=\"text-align: right;\">\n",
       "      <th></th>\n",
       "      <th>MESSAGE</th>\n",
       "      <th>CATEGORY</th>\n",
       "    </tr>\n",
       "  </thead>\n",
       "  <tbody>\n",
       "    <tr>\n",
       "      <th>00387.8562ea27520ea0fa6030679792f2fb72</th>\n",
       "      <td>&lt;!DOCTYPE HTML PUBLIC \"-//W3C//DTD HTML 4.0 Tr...</td>\n",
       "      <td>1</td>\n",
       "    </tr>\n",
       "    <tr>\n",
       "      <th>00313.fab744bfd5a128fca39b69df9811c086</th>\n",
       "      <td>PGh0bWw+DQo8aGVhZD4NCjxtZXRhIGh0dHAtZXF1aXY9Ik...</td>\n",
       "      <td>1</td>\n",
       "    </tr>\n",
       "    <tr>\n",
       "      <th>00365.da6795d02b44e4d5e168d62718f3e7c9</th>\n",
       "      <td>--------------103237257898946\\n\\nContent-Type:...</td>\n",
       "      <td>1</td>\n",
       "    </tr>\n",
       "    <tr>\n",
       "      <th>00255.aeff2fdf2ba6b8b49686df3575859a48</th>\n",
       "      <td>It was the Spring of 1979.  \\n\\n\\n\\nI was just...</td>\n",
       "      <td>1</td>\n",
       "    </tr>\n",
       "    <tr>\n",
       "      <th>00248.b243bca51ee69d6e428ca2f45f0fe41b</th>\n",
       "      <td>This is a multi-part message in MIME format.\\n...</td>\n",
       "      <td>1</td>\n",
       "    </tr>\n",
       "    <tr>\n",
       "      <th>...</th>\n",
       "      <td>...</td>\n",
       "      <td>...</td>\n",
       "    </tr>\n",
       "    <tr>\n",
       "      <th>00515.b39512509fd4f39fb1cf50248c37564f</th>\n",
       "      <td>On Mon, 19 Aug 2002 12:01:02 BST, Adrian Murph...</td>\n",
       "      <td>0</td>\n",
       "    </tr>\n",
       "    <tr>\n",
       "      <th>01269.4b518a53f76da3fd4d469c5e2e557340</th>\n",
       "      <td>On Wed, 21 Aug 2002 10:38:04 +0200, Matthias S...</td>\n",
       "      <td>0</td>\n",
       "    </tr>\n",
       "    <tr>\n",
       "      <th>00307.6cfae2c5703c7eb36db9c8158c70b0ae</th>\n",
       "      <td>On Fri, Aug 09, 2002 at 09:30:29AM +0100, Ryan...</td>\n",
       "      <td>0</td>\n",
       "    </tr>\n",
       "    <tr>\n",
       "      <th>00212.df5211161d938a2547804a50f0a8698f</th>\n",
       "      <td>At 17:34 31/07/02 +0100, Liam Bedford wrote:\\n...</td>\n",
       "      <td>0</td>\n",
       "    </tr>\n",
       "    <tr>\n",
       "      <th>01316.ba750fd796b2557fbfbbd3699ff90d25</th>\n",
       "      <td>use Perl Daily Newsletter\\n\\n\\n\\nIn this issue...</td>\n",
       "      <td>0</td>\n",
       "    </tr>\n",
       "  </tbody>\n",
       "</table>\n",
       "<p>5799 rows × 2 columns</p>\n",
       "</div>"
      ],
      "text/plain": [
       "                                                                                  MESSAGE  \\\n",
       "00387.8562ea27520ea0fa6030679792f2fb72  <!DOCTYPE HTML PUBLIC \"-//W3C//DTD HTML 4.0 Tr...   \n",
       "00313.fab744bfd5a128fca39b69df9811c086  PGh0bWw+DQo8aGVhZD4NCjxtZXRhIGh0dHAtZXF1aXY9Ik...   \n",
       "00365.da6795d02b44e4d5e168d62718f3e7c9  --------------103237257898946\\n\\nContent-Type:...   \n",
       "00255.aeff2fdf2ba6b8b49686df3575859a48  It was the Spring of 1979.  \\n\\n\\n\\nI was just...   \n",
       "00248.b243bca51ee69d6e428ca2f45f0fe41b  This is a multi-part message in MIME format.\\n...   \n",
       "...                                                                                   ...   \n",
       "00515.b39512509fd4f39fb1cf50248c37564f  On Mon, 19 Aug 2002 12:01:02 BST, Adrian Murph...   \n",
       "01269.4b518a53f76da3fd4d469c5e2e557340  On Wed, 21 Aug 2002 10:38:04 +0200, Matthias S...   \n",
       "00307.6cfae2c5703c7eb36db9c8158c70b0ae  On Fri, Aug 09, 2002 at 09:30:29AM +0100, Ryan...   \n",
       "00212.df5211161d938a2547804a50f0a8698f  At 17:34 31/07/02 +0100, Liam Bedford wrote:\\n...   \n",
       "01316.ba750fd796b2557fbfbbd3699ff90d25  use Perl Daily Newsletter\\n\\n\\n\\nIn this issue...   \n",
       "\n",
       "                                        CATEGORY  \n",
       "00387.8562ea27520ea0fa6030679792f2fb72         1  \n",
       "00313.fab744bfd5a128fca39b69df9811c086         1  \n",
       "00365.da6795d02b44e4d5e168d62718f3e7c9         1  \n",
       "00255.aeff2fdf2ba6b8b49686df3575859a48         1  \n",
       "00248.b243bca51ee69d6e428ca2f45f0fe41b         1  \n",
       "...                                          ...  \n",
       "00515.b39512509fd4f39fb1cf50248c37564f         0  \n",
       "01269.4b518a53f76da3fd4d469c5e2e557340         0  \n",
       "00307.6cfae2c5703c7eb36db9c8158c70b0ae         0  \n",
       "00212.df5211161d938a2547804a50f0a8698f         0  \n",
       "01316.ba750fd796b2557fbfbbd3699ff90d25         0  \n",
       "\n",
       "[5799 rows x 2 columns]"
      ]
     },
     "execution_count": 14,
     "metadata": {},
     "output_type": "execute_result"
    }
   ],
   "source": [
    "data"
   ]
  },
  {
   "cell_type": "code",
   "execution_count": 15,
   "metadata": {},
   "outputs": [
    {
     "data": {
      "text/plain": [
       "00387.8562ea27520ea0fa6030679792f2fb72    <!DOCTYPE HTML PUBLIC \"-//W3C//DTD HTML 4.0 Tr...\n",
       "00313.fab744bfd5a128fca39b69df9811c086    PGh0bWw+DQo8aGVhZD4NCjxtZXRhIGh0dHAtZXF1aXY9Ik...\n",
       "00365.da6795d02b44e4d5e168d62718f3e7c9    --------------103237257898946\\n\\nContent-Type:...\n",
       "00255.aeff2fdf2ba6b8b49686df3575859a48    It was the Spring of 1979.  \\n\\n\\n\\nI was just...\n",
       "00248.b243bca51ee69d6e428ca2f45f0fe41b    This is a multi-part message in MIME format.\\n...\n",
       "                                                                ...                        \n",
       "00515.b39512509fd4f39fb1cf50248c37564f    On Mon, 19 Aug 2002 12:01:02 BST, Adrian Murph...\n",
       "01269.4b518a53f76da3fd4d469c5e2e557340    On Wed, 21 Aug 2002 10:38:04 +0200, Matthias S...\n",
       "00307.6cfae2c5703c7eb36db9c8158c70b0ae    On Fri, Aug 09, 2002 at 09:30:29AM +0100, Ryan...\n",
       "00212.df5211161d938a2547804a50f0a8698f    At 17:34 31/07/02 +0100, Liam Bedford wrote:\\n...\n",
       "01316.ba750fd796b2557fbfbbd3699ff90d25    use Perl Daily Newsletter\\n\\n\\n\\nIn this issue...\n",
       "Name: MESSAGE, Length: 5799, dtype: object"
      ]
     },
     "execution_count": 15,
     "metadata": {},
     "output_type": "execute_result"
    }
   ],
   "source": [
    "data[\"MESSAGE\"]"
   ]
  },
  {
   "cell_type": "code",
   "execution_count": 16,
   "metadata": {},
   "outputs": [
    {
     "data": {
      "text/plain": [
       "False    5799\n",
       "Name: MESSAGE, dtype: int64"
      ]
     },
     "execution_count": 16,
     "metadata": {},
     "output_type": "execute_result"
    }
   ],
   "source": [
    "data[\"MESSAGE\"].isnull().value_counts()"
   ]
  },
  {
   "cell_type": "code",
   "execution_count": 17,
   "metadata": {},
   "outputs": [
    {
     "data": {
      "text/plain": [
       "False"
      ]
     },
     "execution_count": 17,
     "metadata": {},
     "output_type": "execute_result"
    }
   ],
   "source": [
    "data[\"MESSAGE\"].isnull().values.any()"
   ]
  },
  {
   "cell_type": "code",
   "execution_count": 18,
   "metadata": {},
   "outputs": [
    {
     "data": {
      "text/plain": [
       "True"
      ]
     },
     "execution_count": 18,
     "metadata": {},
     "output_type": "execute_result"
    }
   ],
   "source": [
    "# Check if there are empty emails (string lengh zero)\n",
    "(data.MESSAGE.str.len() == 0).any()"
   ]
  },
  {
   "cell_type": "code",
   "execution_count": 19,
   "metadata": {},
   "outputs": [
    {
     "data": {
      "text/plain": [
       "False    5796\n",
       "True        3\n",
       "Name: MESSAGE, dtype: int64"
      ]
     },
     "execution_count": 19,
     "metadata": {},
     "output_type": "execute_result"
    }
   ],
   "source": [
    "(data.MESSAGE.str.len() == 0).value_counts()"
   ]
  },
  {
   "cell_type": "markdown",
   "metadata": {},
   "source": [
    "### Local empty emails"
   ]
  },
  {
   "cell_type": "code",
   "execution_count": 20,
   "metadata": {},
   "outputs": [
    {
     "data": {
      "text/plain": [
       "Index(['cmds', 'cmds', 'cmds'], dtype='object')"
      ]
     },
     "execution_count": 20,
     "metadata": {},
     "output_type": "execute_result"
    }
   ],
   "source": [
    "data[data.MESSAGE.str.len() == 0].index"
   ]
  },
  {
   "cell_type": "markdown",
   "metadata": {},
   "source": [
    "### Remove system file entries from dataframe"
   ]
  },
  {
   "cell_type": "code",
   "execution_count": 21,
   "metadata": {},
   "outputs": [
    {
     "data": {
      "text/plain": [
       "(5796, 2)"
      ]
     },
     "execution_count": 21,
     "metadata": {},
     "output_type": "execute_result"
    }
   ],
   "source": [
    "data.drop([\"cmds\"], inplace=True)\n",
    "data.shape"
   ]
  },
  {
   "cell_type": "markdown",
   "metadata": {},
   "source": [
    "### Add Documents IDs to track Emails in Dataset"
   ]
  },
  {
   "cell_type": "code",
   "execution_count": 22,
   "metadata": {},
   "outputs": [],
   "source": [
    "documents_ids = range(0,len(data.index))\n",
    "data[\"DOC_ID\"] = documents_ids"
   ]
  },
  {
   "cell_type": "code",
   "execution_count": 23,
   "metadata": {},
   "outputs": [
    {
     "data": {
      "text/html": [
       "<div>\n",
       "<style scoped>\n",
       "    .dataframe tbody tr th:only-of-type {\n",
       "        vertical-align: middle;\n",
       "    }\n",
       "\n",
       "    .dataframe tbody tr th {\n",
       "        vertical-align: top;\n",
       "    }\n",
       "\n",
       "    .dataframe thead th {\n",
       "        text-align: right;\n",
       "    }\n",
       "</style>\n",
       "<table border=\"1\" class=\"dataframe\">\n",
       "  <thead>\n",
       "    <tr style=\"text-align: right;\">\n",
       "      <th></th>\n",
       "      <th>MESSAGE</th>\n",
       "      <th>CATEGORY</th>\n",
       "      <th>FILE_NAME</th>\n",
       "    </tr>\n",
       "    <tr>\n",
       "      <th>DOC_ID</th>\n",
       "      <th></th>\n",
       "      <th></th>\n",
       "      <th></th>\n",
       "    </tr>\n",
       "  </thead>\n",
       "  <tbody>\n",
       "    <tr>\n",
       "      <th>0</th>\n",
       "      <td>&lt;!DOCTYPE HTML PUBLIC \"-//W3C//DTD HTML 4.0 Tr...</td>\n",
       "      <td>1</td>\n",
       "      <td>00387.8562ea27520ea0fa6030679792f2fb72</td>\n",
       "    </tr>\n",
       "    <tr>\n",
       "      <th>1</th>\n",
       "      <td>PGh0bWw+DQo8aGVhZD4NCjxtZXRhIGh0dHAtZXF1aXY9Ik...</td>\n",
       "      <td>1</td>\n",
       "      <td>00313.fab744bfd5a128fca39b69df9811c086</td>\n",
       "    </tr>\n",
       "    <tr>\n",
       "      <th>2</th>\n",
       "      <td>--------------103237257898946\\n\\nContent-Type:...</td>\n",
       "      <td>1</td>\n",
       "      <td>00365.da6795d02b44e4d5e168d62718f3e7c9</td>\n",
       "    </tr>\n",
       "    <tr>\n",
       "      <th>3</th>\n",
       "      <td>It was the Spring of 1979.  \\n\\n\\n\\nI was just...</td>\n",
       "      <td>1</td>\n",
       "      <td>00255.aeff2fdf2ba6b8b49686df3575859a48</td>\n",
       "    </tr>\n",
       "    <tr>\n",
       "      <th>4</th>\n",
       "      <td>This is a multi-part message in MIME format.\\n...</td>\n",
       "      <td>1</td>\n",
       "      <td>00248.b243bca51ee69d6e428ca2f45f0fe41b</td>\n",
       "    </tr>\n",
       "    <tr>\n",
       "      <th>...</th>\n",
       "      <td>...</td>\n",
       "      <td>...</td>\n",
       "      <td>...</td>\n",
       "    </tr>\n",
       "    <tr>\n",
       "      <th>5791</th>\n",
       "      <td>On Mon, 19 Aug 2002 12:01:02 BST, Adrian Murph...</td>\n",
       "      <td>0</td>\n",
       "      <td>00515.b39512509fd4f39fb1cf50248c37564f</td>\n",
       "    </tr>\n",
       "    <tr>\n",
       "      <th>5792</th>\n",
       "      <td>On Wed, 21 Aug 2002 10:38:04 +0200, Matthias S...</td>\n",
       "      <td>0</td>\n",
       "      <td>01269.4b518a53f76da3fd4d469c5e2e557340</td>\n",
       "    </tr>\n",
       "    <tr>\n",
       "      <th>5793</th>\n",
       "      <td>On Fri, Aug 09, 2002 at 09:30:29AM +0100, Ryan...</td>\n",
       "      <td>0</td>\n",
       "      <td>00307.6cfae2c5703c7eb36db9c8158c70b0ae</td>\n",
       "    </tr>\n",
       "    <tr>\n",
       "      <th>5794</th>\n",
       "      <td>At 17:34 31/07/02 +0100, Liam Bedford wrote:\\n...</td>\n",
       "      <td>0</td>\n",
       "      <td>00212.df5211161d938a2547804a50f0a8698f</td>\n",
       "    </tr>\n",
       "    <tr>\n",
       "      <th>5795</th>\n",
       "      <td>use Perl Daily Newsletter\\n\\n\\n\\nIn this issue...</td>\n",
       "      <td>0</td>\n",
       "      <td>01316.ba750fd796b2557fbfbbd3699ff90d25</td>\n",
       "    </tr>\n",
       "  </tbody>\n",
       "</table>\n",
       "<p>5796 rows × 3 columns</p>\n",
       "</div>"
      ],
      "text/plain": [
       "                                                  MESSAGE  CATEGORY  \\\n",
       "DOC_ID                                                                \n",
       "0       <!DOCTYPE HTML PUBLIC \"-//W3C//DTD HTML 4.0 Tr...         1   \n",
       "1       PGh0bWw+DQo8aGVhZD4NCjxtZXRhIGh0dHAtZXF1aXY9Ik...         1   \n",
       "2       --------------103237257898946\\n\\nContent-Type:...         1   \n",
       "3       It was the Spring of 1979.  \\n\\n\\n\\nI was just...         1   \n",
       "4       This is a multi-part message in MIME format.\\n...         1   \n",
       "...                                                   ...       ...   \n",
       "5791    On Mon, 19 Aug 2002 12:01:02 BST, Adrian Murph...         0   \n",
       "5792    On Wed, 21 Aug 2002 10:38:04 +0200, Matthias S...         0   \n",
       "5793    On Fri, Aug 09, 2002 at 09:30:29AM +0100, Ryan...         0   \n",
       "5794    At 17:34 31/07/02 +0100, Liam Bedford wrote:\\n...         0   \n",
       "5795    use Perl Daily Newsletter\\n\\n\\n\\nIn this issue...         0   \n",
       "\n",
       "                                     FILE_NAME  \n",
       "DOC_ID                                          \n",
       "0       00387.8562ea27520ea0fa6030679792f2fb72  \n",
       "1       00313.fab744bfd5a128fca39b69df9811c086  \n",
       "2       00365.da6795d02b44e4d5e168d62718f3e7c9  \n",
       "3       00255.aeff2fdf2ba6b8b49686df3575859a48  \n",
       "4       00248.b243bca51ee69d6e428ca2f45f0fe41b  \n",
       "...                                        ...  \n",
       "5791    00515.b39512509fd4f39fb1cf50248c37564f  \n",
       "5792    01269.4b518a53f76da3fd4d469c5e2e557340  \n",
       "5793    00307.6cfae2c5703c7eb36db9c8158c70b0ae  \n",
       "5794    00212.df5211161d938a2547804a50f0a8698f  \n",
       "5795    01316.ba750fd796b2557fbfbbd3699ff90d25  \n",
       "\n",
       "[5796 rows x 3 columns]"
      ]
     },
     "execution_count": 23,
     "metadata": {},
     "output_type": "execute_result"
    }
   ],
   "source": [
    "data[\"FILE_NAME\"] = data.index\n",
    "data.set_index(\"DOC_ID\", inplace=True)\n",
    "data"
   ]
  },
  {
   "cell_type": "markdown",
   "metadata": {},
   "source": [
    "### Save to File using Pandas"
   ]
  },
  {
   "cell_type": "code",
   "execution_count": 25,
   "metadata": {},
   "outputs": [],
   "source": [
    "data.to_json(DATA_JSON_FILE)"
   ]
  },
  {
   "cell_type": "markdown",
   "metadata": {},
   "source": [
    "### Number of Spam Messages Visualised (Pie Chart)"
   ]
  },
  {
   "cell_type": "code",
   "execution_count": 26,
   "metadata": {},
   "outputs": [
    {
     "data": {
      "text/plain": [
       "0    3900\n",
       "1    1896\n",
       "Name: CATEGORY, dtype: int64"
      ]
     },
     "execution_count": 26,
     "metadata": {},
     "output_type": "execute_result"
    }
   ],
   "source": [
    "data.CATEGORY.value_counts()"
   ]
  },
  {
   "cell_type": "code",
   "execution_count": 34,
   "metadata": {},
   "outputs": [],
   "source": [
    "amount_of_spam = data.CATEGORY.value_counts()[1]\n",
    "amount_of_ham = data.CATEGORY.value_counts()[0]"
   ]
  },
  {
   "cell_type": "code",
   "execution_count": 57,
   "metadata": {},
   "outputs": [
    {
     "data": {
      "image/png": "[encoded data removed]",
      "text/plain": [
       "<Figure size 454x454 with 1 Axes>"
      ]
     },
     "metadata": {},
     "output_type": "display_data"
    }
   ],
   "source": [
    "category_name = [\"Spam\",\"Legit Mail\"]\n",
    "sizes = [amount_of_spam, amount_of_ham]\n",
    "custom_colours = [\"#ff7675\",\"#74b9ff\"]\n",
    "\n",
    "plt.figure(figsize=(2,2), dpi=227)\n",
    "plt.pie(sizes, labels=category_name, textprops={\"fontsize\":6}, \n",
    "        startangle=90, \n",
    "        autopct=\"%1.1f%%\",\n",
    "       colors=custom_colours, explode=[0,0.1])\n",
    "plt.show()"
   ]
  },
  {
   "cell_type": "code",
   "execution_count": 62,
   "metadata": {},
   "outputs": [
    {
     "data": {
      "image/png": "[encoded data removed]",
      "text/plain": [
       "<Figure size 454x454 with 1 Axes>"
      ]
     },
     "metadata": {},
     "output_type": "display_data"
    }
   ],
   "source": [
    "category_name = [\"Spam\",\"Legit Mail\"]\n",
    "sizes = [amount_of_spam, amount_of_ham]\n",
    "custom_colours = [\"#ff7675\",\"#74b9ff\"]\n",
    "\n",
    "plt.figure(figsize=(2,2), dpi=227)\n",
    "plt.pie(sizes, labels=category_name, textprops={\"fontsize\":6}, \n",
    "        startangle=90, \n",
    "        autopct=\"%1.f%%\",\n",
    "       colors=custom_colours,\n",
    "       pctdistance=0.8)\n",
    "\n",
    "# Draw circle\n",
    "centre_circle = plt.Circle((0,0), radius=0.6, fc=\"white\")\n",
    "plt.gca().add_artist(centre_circle)\n",
    "\n",
    "plt.show()"
   ]
  },
  {
   "cell_type": "code",
   "execution_count": 64,
   "metadata": {},
   "outputs": [
    {
     "data": {
      "image/png": "[encoded data removed]",
      "text/plain": [
       "<Figure size 454x454 with 1 Axes>"
      ]
     },
     "metadata": {},
     "output_type": "display_data"
    }
   ],
   "source": [
    "category_name = [\"Spam\",\"Legit Mail\",\"Updates\",\"Promotions\"]\n",
    "sizes= [25,43,19,22]\n",
    "custom_colours = [\"#ff7675\",\"#74b9ff\",\"#55efc4\",\"#ffeaa7\"]\n",
    "offset = [0.05,0.05,0.05,0.05]\n",
    "\n",
    "plt.figure(figsize=(2,2), dpi=227)\n",
    "plt.pie(sizes, labels=category_name, textprops={\"fontsize\":6}, \n",
    "        startangle=90, \n",
    "        autopct=\"%1.f%%\",\n",
    "       colors=custom_colours,\n",
    "       pctdistance=0.8, explode=offset)\n",
    "\n",
    "# Draw circle\n",
    "centre_circle = plt.Circle((0,0), radius=0.6, fc=\"white\")\n",
    "plt.gca().add_artist(centre_circle)\n",
    "\n",
    "plt.show()"
   ]
  },
  {
   "cell_type": "markdown",
   "metadata": {},
   "source": [
    "# Natural Language Processing\n",
    "### Text Pre-Processing"
   ]
  },
  {
   "cell_type": "code",
   "execution_count": 65,
   "metadata": {},
   "outputs": [
    {
     "data": {
      "text/plain": [
       "'all work an no play makes jack a dull boy'"
      ]
     },
     "execution_count": 65,
     "metadata": {},
     "output_type": "execute_result"
    }
   ],
   "source": [
    "msg = \"All work and no play makes Jack a dull boy\"\n",
    "msg.lower()"
   ]
  },
  {
   "cell_type": "markdown",
   "metadata": {},
   "source": [
    "### Download the NLTK Resources (Tokenizer & Stopwords)"
   ]
  },
  {
   "cell_type": "code",
   "execution_count": 69,
   "metadata": {},
   "outputs": [
    {
     "name": "stderr",
     "output_type": "stream",
     "text": [
      "[nltk_data] Downloading package punkt to\n",
      "[nltk_data]     /home/sjvasconcello/nltk_data...\n",
      "[nltk_data]   Package punkt is already up-to-date!\n"
     ]
    },
    {
     "data": {
      "text/plain": [
       "True"
      ]
     },
     "execution_count": 69,
     "metadata": {},
     "output_type": "execute_result"
    }
   ],
   "source": [
    "nltk.download(\"punkt\")"
   ]
  },
  {
   "cell_type": "code",
   "execution_count": 72,
   "metadata": {},
   "outputs": [
    {
     "name": "stderr",
     "output_type": "stream",
     "text": [
      "[nltk_data] Downloading package stopwords to\n",
      "[nltk_data]     /home/sjvasconcello/nltk_data...\n",
      "[nltk_data]   Unzipping corpora/stopwords.zip.\n"
     ]
    },
    {
     "data": {
      "text/plain": [
       "True"
      ]
     },
     "execution_count": 72,
     "metadata": {},
     "output_type": "execute_result"
    }
   ],
   "source": [
    "nltk.download(\"stopwords\")"
   ]
  },
  {
   "cell_type": "markdown",
   "metadata": {},
   "source": [
    "### Tokenising"
   ]
  },
  {
   "cell_type": "code",
   "execution_count": 71,
   "metadata": {},
   "outputs": [
    {
     "data": {
      "text/plain": [
       "['all', 'work', 'and', 'no', 'play', 'makes', 'jack', 'a', 'dull', 'boy']"
      ]
     },
     "execution_count": 71,
     "metadata": {},
     "output_type": "execute_result"
    }
   ],
   "source": [
    "msg = \"All work and no play makes Jack a dull boy\"\n",
    "word_tokenize(msg.lower())"
   ]
  },
  {
   "cell_type": "markdown",
   "metadata": {},
   "source": [
    "## Removing Stop Words"
   ]
  },
  {
   "cell_type": "code",
   "execution_count": 79,
   "metadata": {},
   "outputs": [],
   "source": [
    "stop_words = set(stopwords.words(\"english\"))"
   ]
  },
  {
   "cell_type": "code",
   "execution_count": 80,
   "metadata": {},
   "outputs": [
    {
     "data": {
      "text/plain": [
       "set"
      ]
     },
     "execution_count": 80,
     "metadata": {},
     "output_type": "execute_result"
    }
   ],
   "source": [
    "type(stop_words)"
   ]
  },
  {
   "cell_type": "code",
   "execution_count": 82,
   "metadata": {},
   "outputs": [
    {
     "name": "stdout",
     "output_type": "stream",
     "text": [
      "Found it!\n"
     ]
    }
   ],
   "source": [
    "if \"this\" in stop_words: print(\"Found it!\")"
   ]
  },
  {
   "cell_type": "code",
   "execution_count": 85,
   "metadata": {},
   "outputs": [
    {
     "name": "stdout",
     "output_type": "stream",
     "text": [
      "Nope!\n"
     ]
    }
   ],
   "source": [
    "if \"hello\" not in  stop_words: print(\"Nope!\")"
   ]
  },
  {
   "cell_type": "code",
   "execution_count": 93,
   "metadata": {},
   "outputs": [
    {
     "name": "stdout",
     "output_type": "stream",
     "text": [
      "['work', 'play', 'make', 'jack', 'dull', 'boy', '.', '.', 'nobodi', 'expect', 'spanish', 'inquisit', '!']\n"
     ]
    }
   ],
   "source": [
    "msg = \"All work and no play makes Jack a dull boy. To be or not to be. \\\n",
    "Nobody expects the Spanish Inquisition!\"\n",
    "words = word_tokenize(msg.lower())\n",
    "\n",
    "stemmer = SnowballStemmer(\"english\")\n",
    "\n",
    "filtered_words = []\n",
    "\n",
    "for word in words:\n",
    "    if word not in stop_words:\n",
    "        stemmed_word = stemmer.stem(word)\n",
    "        filtered_words.append(stemmed_word)\n",
    "\n",
    "print(filtered_words)"
   ]
  },
  {
   "cell_type": "code",
   "execution_count": null,
   "metadata": {},
   "outputs": [],
   "source": []
  }
 ],
 "metadata": {
  "kernelspec": {
   "display_name": "Python 3",
   "language": "python",
   "name": "python3"
  },
  "language_info": {
   "codemirror_mode": {
    "name": "ipython",
    "version": 3
   },
   "file_extension": ".py",
   "mimetype": "text/x-python",
   "name": "python",
   "nbconvert_exporter": "python",
   "pygments_lexer": "ipython3",
   "version": "3.7.4"
  }
 },
 "nbformat": 4,
 "nbformat_minor": 2
}
